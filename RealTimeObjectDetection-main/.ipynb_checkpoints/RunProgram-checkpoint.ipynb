{
 "cells": [
  {
   "cell_type": "markdown",
   "id": "be6f1313",
   "metadata": {},
   "source": [
    "<h1><strong>Run these commands the first time you open this project on your computer.\n",
    "    <br>You do NOT need to run these commands again -- ever, after the first time.</strong></h1>\n",
    "<p>Without these commands, running the webcam code will output an error. These commands fix the issue.\n",
    "<br>You only need to run these commands once. You can exit Jupyter Lab and come back without having to run these commands again.</p>"
   ]
  },
  {
   "cell_type": "code",
   "execution_count": null,
   "id": "7250d004",
   "metadata": {},
   "outputs": [],
   "source": [
    "# run this command the first time you open this notebook\n",
    "!pip uninstall opencv-python -y"
   ]
  },
  {
   "cell_type": "code",
   "execution_count": null,
   "id": "bfe00c84",
   "metadata": {},
   "outputs": [],
   "source": [
    "# run this command the first time you open this notebook, after uninstalling\n",
    "!pip install opencv-python"
   ]
  },
  {
   "cell_type": "markdown",
   "id": "bdd728d2",
   "metadata": {},
   "source": [
    "<h1><strong>Run each command to load the program.</strong></h1>"
   ]
  },
  {
   "cell_type": "code",
   "execution_count": null,
   "id": "2db159c0",
   "metadata": {},
   "outputs": [],
   "source": [
    "# you do not need to run the commands on top if you have already did so the first time\n",
    "# you may now run the rest of the commands\n",
    "WORKSPACE_PATH = 'Tensorflow/workspace'\n",
    "SCRIPTS_PATH = 'Tensorflow/scripts'\n",
    "APIMODEL_PATH = 'Tensorflow/models'\n",
    "ANNOTATION_PATH = WORKSPACE_PATH+'/annotations'\n",
    "IMAGE_PATH = WORKSPACE_PATH+'/images'\n",
    "MODEL_PATH = WORKSPACE_PATH+'/models'\n",
    "PRETRAINED_MODEL_PATH = WORKSPACE_PATH+'/pre-trained-models'\n",
    "CONFIG_PATH = MODEL_PATH+'/my_ssd_mobnet/pipeline.config'\n",
    "CHECKPOINT_PATH = MODEL_PATH+'/my_ssd_mobnet/'"
   ]
  },
  {
   "cell_type": "code",
   "execution_count": null,
   "id": "d5d72925",
   "metadata": {},
   "outputs": [],
   "source": [
    "CUSTOM_MODEL_NAME = 'my_ssd_mobnet' "
   ]
  },
  {
   "cell_type": "markdown",
   "id": "a0b58535",
   "metadata": {},
   "source": [
    "## Import tensorflow and the object detection modules. \n",
    "### This will help set up the model for transfer learning."
   ]
  },
  {
   "cell_type": "code",
   "execution_count": null,
   "id": "c9c51d87",
   "metadata": {},
   "outputs": [],
   "source": [
    "import tensorflow as tf\n",
    "from object_detection.utils import config_util\n",
    "from object_detection.protos import pipeline_pb2\n",
    "from google.protobuf import text_format"
   ]
  },
  {
   "cell_type": "markdown",
   "id": "cce3658b",
   "metadata": {},
   "source": [
    "### Create the path for the model and create the model config "
   ]
  },
  {
   "cell_type": "code",
   "execution_count": null,
   "id": "ada45dc0",
   "metadata": {},
   "outputs": [],
   "source": [
    "CONFIG_PATH = MODEL_PATH+'/'+CUSTOM_MODEL_NAME+'/pipeline.config'"
   ]
  },
  {
   "cell_type": "code",
   "execution_count": null,
   "id": "7a54dc5a",
   "metadata": {},
   "outputs": [],
   "source": [
    "config = config_util.get_configs_from_pipeline_file(CONFIG_PATH)"
   ]
  },
  {
   "cell_type": "code",
   "execution_count": null,
   "id": "3c406c17",
   "metadata": {},
   "outputs": [],
   "source": [
    "import os\n",
    "from object_detection.utils import label_map_util\n",
    "from object_detection.utils import visualization_utils as viz_utils\n",
    "from object_detection.builders import model_builder"
   ]
  },
  {
   "cell_type": "markdown",
   "id": "d353cc8f",
   "metadata": {},
   "source": [
    "### Load the pipeline\n",
    "\n",
    "#### This will help build the detection model for finding gestures. The detection model is what is used when testing out the program in real time using the webcam. Function detect_fn detects that a gesture is being placed on screen by puttting the gesture in a box that then allows for the model to output a prediction."
   ]
  },
  {
   "cell_type": "code",
   "execution_count": null,
   "id": "4fb58aa8",
   "metadata": {},
   "outputs": [],
   "source": [
    "# Load pipeline config and build a detection model\n",
    "configs = config_util.get_configs_from_pipeline_file(CONFIG_PATH)\n",
    "detection_model = model_builder.build(model_config=configs['model'], is_training=False)\n",
    "\n",
    "# Restore checkpoint\n",
    "ckpt = tf.compat.v2.train.Checkpoint(model=detection_model)\n",
    "ckpt.restore(os.path.join(CHECKPOINT_PATH, 'ckpt-11')).expect_partial()\n",
    "\n",
    "@tf.function\n",
    "def detect_fn(image):\n",
    "    image, shapes = detection_model.preprocess(image)\n",
    "    prediction_dict = detection_model.predict(image, shapes)\n",
    "    detections = detection_model.postprocess(prediction_dict, shapes)\n",
    "    return detections"
   ]
  },
  {
   "cell_type": "markdown",
   "id": "b3468a54",
   "metadata": {},
   "source": [
    "### Import CV2 and set up the camera for gesture recognition."
   ]
  },
  {
   "cell_type": "code",
   "execution_count": null,
   "id": "b7f368ad",
   "metadata": {},
   "outputs": [],
   "source": [
    "import cv2 \n",
    "import numpy as np"
   ]
  },
  {
   "cell_type": "code",
   "execution_count": null,
   "id": "d7912903",
   "metadata": {},
   "outputs": [],
   "source": [
    "category_index = label_map_util.create_category_index_from_labelmap(ANNOTATION_PATH+'/label_map.pbtxt')"
   ]
  },
  {
   "cell_type": "code",
   "execution_count": null,
   "id": "2f2bd79f",
   "metadata": {},
   "outputs": [],
   "source": [
    "# Setup capture\n",
    "cap = cv2.VideoCapture(0)\n",
    "width = int(cap.get(cv2.CAP_PROP_FRAME_WIDTH))\n",
    "height = int(cap.get(cv2.CAP_PROP_FRAME_HEIGHT))"
   ]
  },
  {
   "cell_type": "markdown",
   "id": "46541aee",
   "metadata": {},
   "source": [
    "# Wait for previous cell to load before running the next cell.\n",
    "\n",
    "### This is the main program cell. This will run the program and launch the webcam in order to detect gestures. For every gesture the program recognizes, the model will output a prediction from one of the classes with a measure of confidence. Close the program by pressing 'q'."
   ]
  },
  {
   "cell_type": "code",
   "execution_count": null,
   "id": "bec03c5e",
   "metadata": {},
   "outputs": [],
   "source": [
    "# this command will run the program\n",
    "while True: \n",
    "    ret, frame = cap.read()\n",
    "    image_np = np.array(frame)\n",
    "    \n",
    "    input_tensor = tf.convert_to_tensor(np.expand_dims(image_np, 0), dtype=tf.float32)\n",
    "    detections = detect_fn(input_tensor)\n",
    "    \n",
    "    num_detections = int(detections.pop('num_detections'))\n",
    "    detections = {key: value[0, :num_detections].numpy()\n",
    "                  for key, value in detections.items()}\n",
    "    detections['num_detections'] = num_detections\n",
    "\n",
    "    # detection_classes should be ints.\n",
    "    detections['detection_classes'] = detections['detection_classes'].astype(np.int64)\n",
    "\n",
    "    label_id_offset = 1\n",
    "    image_np_with_detections = image_np.copy()\n",
    "\n",
    "    viz_utils.visualize_boxes_and_labels_on_image_array(\n",
    "                image_np_with_detections,\n",
    "                detections['detection_boxes'],\n",
    "                detections['detection_classes']+label_id_offset,\n",
    "                detections['detection_scores'],\n",
    "                category_index,\n",
    "                use_normalized_coordinates=True,\n",
    "                max_boxes_to_draw=3,\n",
    "                min_score_thresh=.5,\n",
    "                agnostic_mode=False)\n",
    "\n",
    "    cv2.imshow('object detection',  cv2.resize(image_np_with_detections, (800, 600)))\n",
    "    \n",
    "    if cv2.waitKey(1) & 0xFF == ord('q'):\n",
    "        cap.release()\n",
    "        break"
   ]
  },
  {
   "cell_type": "markdown",
   "id": "54e9ad6c",
   "metadata": {},
   "source": [
    "<h1><strong>To close the program, press 'q' on your keyboard.<br>The program will freeze.<br>Then, run the next command to close the program.\n",
    "    <br><br>Or, you may STOP the kernel and then run the next command.</strong></h1>"
   ]
  },
  {
   "cell_type": "code",
   "execution_count": null,
   "id": "000bf21a",
   "metadata": {},
   "outputs": [],
   "source": [
    "# run this command after stopping the kernel to close the program\n",
    "cap.release()\n",
    "cv2.destroyAllWindows()"
   ]
  }
 ],
 "metadata": {
  "kernelspec": {
   "display_name": "Python 3 (ipykernel)",
   "language": "python",
   "name": "python3"
  },
  "language_info": {
   "codemirror_mode": {
    "name": "ipython",
    "version": 3
   },
   "file_extension": ".py",
   "mimetype": "text/x-python",
   "name": "python",
   "nbconvert_exporter": "python",
   "pygments_lexer": "ipython3",
   "version": "3.7.9"
  }
 },
 "nbformat": 4,
 "nbformat_minor": 5
}
